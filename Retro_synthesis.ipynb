{
  "nbformat": 4,
  "nbformat_minor": 0,
  "metadata": {
    "colab": {
      "name": "Retro_synthesis.ipynb",
      "provenance": []
    },
    "kernelspec": {
      "name": "python3",
      "display_name": "Python 3"
    },
    "language_info": {
      "name": "python"
    }
  },
  "cells": [
    {
      "cell_type": "code",
      "metadata": {
        "id": "axIZHp2Y1Iou"
      },
      "source": [
        "%reload_ext autoreload\n",
        "%autoreload 2\n",
        "%matplotlib inline"
      ],
      "execution_count": 1,
      "outputs": []
    },
    {
      "cell_type": "code",
      "metadata": {
        "colab": {
          "base_uri": "https://localhost:8080/"
        },
        "id": "-ojDUgnX1XrL",
        "outputId": "9be5132e-80d7-4820-b0a4-3b194130a5e2"
      },
      "source": [
        "!pip install -q condacolab\n",
        "import condacolab\n",
        "condacolab.install()"
      ],
      "execution_count": 2,
      "outputs": [
        {
          "output_type": "stream",
          "name": "stdout",
          "text": [
            "⏬ Downloading https://github.com/jaimergp/miniforge/releases/latest/download/Mambaforge-colab-Linux-x86_64.sh...\n",
            "📦 Installing...\n",
            "📌 Adjusting configuration...\n",
            "🩹 Patching environment...\n",
            "⏲ Done in 0:00:39\n",
            "🔁 Restarting kernel...\n"
          ]
        }
      ]
    },
    {
      "cell_type": "code",
      "metadata": {
        "id": "rYmRsqVa3ZSW"
      },
      "source": [
        "### Installing RDKIT \n",
        "#!mamba install -c conda-forge rdkit"
      ],
      "execution_count": 35,
      "outputs": []
    },
    {
      "cell_type": "code",
      "metadata": {
        "id": "eUq70pMp1Web"
      },
      "source": [
        "import math, matplotlib.pyplot as plt, numpy as np, pandas as pd, random\n",
        "from pathlib import Path\n",
        "from rdkit.Chem import AllChem\n",
        "from rdkit import Chem\n",
        "from rdkit.Chem import Draw"
      ],
      "execution_count": 2,
      "outputs": []
    },
    {
      "cell_type": "code",
      "metadata": {
        "id": "ZdTm7INF_L25"
      },
      "source": [
        "output_files= {\n",
        "    'no_aug' :    ['retro_no_aug_1.txt',\n",
        "                   'retro_no_aug_3.txt',\n",
        "                   'retro_no_aug_5.txt',\n",
        "                   'retro_no_aug_10.txt'],\n",
        "    \n",
        "    'small_aug' : ['retro_small_aug_1.txt',\n",
        "                   'retro_small_aug_3.txt',\n",
        "                   'retro_small_aug_5.txt',\n",
        "                   'retro_small_aug_10.txt'],\n",
        "    \n",
        "    'medium_aug' : ['retro_med_aug_1.txt',\n",
        "                    'retro_med_aug_3.txt',\n",
        "                    'retro_med_aug_5.txt',\n",
        "                    'retro_med_aug_10.txt',],\n",
        "    \n",
        "    'large_aug' : ['retro_large_aug_1.txt',\n",
        "                   'retro_large_aug_3.txt',\n",
        "                   'retro_large_aug_5.txt',\n",
        "                   'retro_large_aug_10.txt',]\n",
        "}"
      ],
      "execution_count": 3,
      "outputs": []
    },
    {
      "cell_type": "code",
      "metadata": {
        "id": "1EL82RIh_T2j"
      },
      "source": [
        "# Load ground truth data\n",
        "df_trains = pd.read_csv('/content/drive/MyDrive/KIT/test_sources.txt', sep='\\n', header=None, names=['Sources'])\n",
        "df_traint = pd.read_csv('/content/drive/MyDrive/KIT/test_targets.txt', sep='\\n', header=None, names=['Targets'])\n",
        "\n",
        "df = pd.concat([df_trains, df_traint], axis=1)\n",
        "#df.head()"
      ],
      "execution_count": 17,
      "outputs": []
    },
    {
      "cell_type": "code",
      "metadata": {
        "colab": {
          "base_uri": "https://localhost:8080/"
        },
        "id": "aC87J9Y_4Y83",
        "outputId": "2efcbab2-4de3-4b6a-95e3-7b6fbe1217a4"
      },
      "source": [
        "path = Path('/content/drive/MyDrive/KIT')\n",
        "prediction_path = path/'retro_aug_experiments/'\n",
        "print(prediction_path)"
      ],
      "execution_count": 31,
      "outputs": [
        {
          "output_type": "stream",
          "name": "stdout",
          "text": [
            "/content/drive/MyDrive/KIT/retro_aug_experiments\n"
          ]
        }
      ]
    },
    {
      "cell_type": "markdown",
      "metadata": {
        "id": "pRnDvKTbAHO8"
      },
      "source": [
        "SMILES Canonicalization\n",
        "SMILES strings have many equivalent representations. When we evaluate accuracy, we want to make sure that a correct prediction is counted as correct regardless of the orientation of the SMILES string.\n",
        "\n",
        "To do this, we canonicalize the SMILES predictions using RDKit\n"
      ]
    },
    {
      "cell_type": "code",
      "metadata": {
        "id": "V7Q7M5L_AJMw"
      },
      "source": [
        "def canonicalize_smiles(smiles):\n",
        "    mol = Chem.MolFromSmiles(smiles)\n",
        "    if mol is not None:\n",
        "        return Chem.MolToSmiles(mol, isomericSmiles=True)\n",
        "    else:\n",
        "        return ''"
      ],
      "execution_count": 18,
      "outputs": []
    },
    {
      "cell_type": "code",
      "metadata": {
        "id": "vIBYUGhNATJA"
      },
      "source": [
        "def canonicalize_prediction(smiles):\n",
        "    smiles = ''.join(smiles.split(' '))\n",
        "    return canonicalize_smiles(smiles)"
      ],
      "execution_count": 19,
      "outputs": []
    },
    {
      "cell_type": "code",
      "metadata": {
        "id": "PDio3T2hAjlW"
      },
      "source": [
        "def topk_correct(row, cols):\n",
        "    # for top K predictions, we look for any one prediction being correct\n",
        "    targ = row['Targets']\n",
        "    \n",
        "    preds = [row[i] for i in cols]\n",
        "    \n",
        "    return any([targ == i for i in preds])"
      ],
      "execution_count": 20,
      "outputs": []
    },
    {
      "cell_type": "code",
      "metadata": {
        "id": "-KYUgbzaAmUh"
      },
      "source": [
        "def unique_preds(row, cols):\n",
        "    \n",
        "    preds = [row[i] for i in cols]\n",
        "    \n",
        "    unique_smis = list(set(preds))\n",
        "    \n",
        "    return len(unique_smis)"
      ],
      "execution_count": 9,
      "outputs": []
    },
    {
      "cell_type": "code",
      "metadata": {
        "id": "mxKL5hATAsBb"
      },
      "source": [
        "def process_topk(filename, k=5):\n",
        "    \n",
        "    # load predictions\n",
        "    # reshape dataframe for top K value\n",
        "    df_preds = pd.read_csv(filename, sep='\\n', header=None, names=['Preds'])\n",
        "    cols = ['P' + str(i+1) for i in range(k)]\n",
        "    \n",
        "    df_preds = pd.DataFrame(df_preds.Preds.values.reshape(df_preds.shape[0]//k, k))\n",
        "    df_preds.columns = cols\n",
        "    \n",
        "    # concat with ground truth data\n",
        "    df_preds = pd.concat([df, df_preds], axis=1)\n",
        "    \n",
        "    # unique predicted strings\n",
        "    df_preds['str_unique'] = df_preds.apply(lambda row: unique_preds(row, cols), axis=1)\n",
        "    \n",
        "    # Canonicalize targets\n",
        "    df_preds.Targets = df_preds.Targets.map(lambda x: canonicalize_prediction(x))\n",
        "    \n",
        "    # Canonicalize predictions\n",
        "    for c in cols:\n",
        "        df_preds[c] = df_preds[c].map(lambda x: canonicalize_prediction(x))\n",
        "        \n",
        "    # Unique predictions after canonicalization\n",
        "    df_preds['chem_unique'] = df_preds.apply(lambda row: unique_preds(row, cols), axis=1)\n",
        "        \n",
        "    # Correct prediction at top K level\n",
        "    df_preds['Correct'] = df_preds.apply(lambda row: topk_correct(row, cols), axis=1)\n",
        "    \n",
        "    return df_preds"
      ],
      "execution_count": 10,
      "outputs": []
    },
    {
      "cell_type": "code",
      "metadata": {
        "id": "CBAYRRTWAx81"
      },
      "source": [
        "class ProcessPreds():\n",
        "    # class to process all predictions in a given group\n",
        "    def __init__(self, path, filenames, ks, title):\n",
        "        self.filenames = [path/file for file in filenames]\n",
        "        self.ks = ks\n",
        "        \n",
        "        self.dfs = [process_topk(f, k) for f,k in zip(self.filenames, ks)]\n",
        "        self.title = title\n",
        "        \n",
        "    def accuracy_stats(self):\n",
        "        return [d.Correct.mean() for d in self.dfs]\n",
        "    \n",
        "    def unique_prediction_stats(self):\n",
        "        return [d.chem_unique.mean() for d in self.dfs]\n",
        "        \n",
        "    def print_results(self):\n",
        "        print(self.title)\n",
        "        print(f'Top-1 Accuracy: {self.dfs[0].Correct.mean():.3f}')\n",
        "        print(f'Top-3 Accuracy: {self.dfs[1].Correct.mean():.3f}')\n",
        "        print(f'Top-5 Accuracy: {self.dfs[2].Correct.mean():.3f}')\n",
        "        print(f'Top-10 Accuracy: {self.dfs[3].Correct.mean():.3f}')\n",
        "        \n",
        "        print('\\n')\n",
        "        print(f'Top-3 Unique Predictions: {self.dfs[1].chem_unique.mean():.3f}')\n",
        "        print(f'Top-5 Unique Predictions: {self.dfs[2].chem_unique.mean():.3f}')\n",
        "        print(f'Top-10 Unique Predictions: {self.dfs[3].chem_unique.mean():.3f}')"
      ],
      "execution_count": 11,
      "outputs": []
    },
    {
      "cell_type": "code",
      "metadata": {
        "id": "dp2JpDH4A5YH"
      },
      "source": [
        "class ProcessAllPreds():\n",
        "    # designed to process all 16 prediction files\n",
        "    def __init__(self, path, outputs, ks, titles):\n",
        "        \n",
        "        self.preds = [ProcessPreds(path, outputs[key], ks, title) \n",
        "                          for key, title in zip(outputs.keys(), titles)]\n",
        "        self.create_stat_dataframes()\n",
        "        \n",
        "    def get_accuracy(self):\n",
        "        self.accs = [p.accuracy_stats() for p in self.preds]\n",
        "        \n",
        "    def get_unique(self):\n",
        "        self.unique_preds = [p.unique_prediction_stats() for p in self.preds]\n",
        "        \n",
        "    def create_stat_dataframes(self):\n",
        "        # gets accuracy values and number of chemically unique predictions for each group in titles\n",
        "        self.get_accuracy()\n",
        "        self.get_unique()\n",
        "        \n",
        "        self.acc_df = pd.DataFrame(self.accs, columns=['Top-1 Accuracy', 'Top-3 Accuracy', \n",
        "                               'Top-5 Accuracy', 'Top-10 Accuracy'],\n",
        "                     index=titles)\n",
        "        \n",
        "        self.unique_df = pd.DataFrame(self.unique_preds, columns=['Top-1 Accuracy', 'Top-3 Accuracy', \n",
        "                               'Top-5 Accuracy', 'Top-10 Accuracy'],\n",
        "                     index=titles)\n",
        "        \n",
        "    def plot_accuracy(self):\n",
        "        \n",
        "        fig, axes = plt.subplots(figsize=(11,8))\n",
        "        plt.title('Accuracy', fontsize=16)\n",
        "        idx = self.acc_df.index\n",
        "        axes.plot(idx, self.acc_df['Top-1 Accuracy'], label='Top-1')\n",
        "        axes.plot(idx, self.acc_df['Top-3 Accuracy'], label='Top-3')\n",
        "        axes.plot(idx, self.acc_df['Top-5 Accuracy'], label='Top-5')\n",
        "        axes.plot(idx, self.acc_df['Top-10 Accuracy'], label='Top-10')\n",
        "        axes.legend()\n",
        "        axes.tick_params(axis='both', which='major', labelsize=14)\n",
        "        axes.set_xlabel('Augmentation Condition', fontsize=14, labelpad=20)\n",
        "        axes.set_ylabel('Accuracy', fontsize=14)\n",
        "        \n",
        "    def plot_unique(self):\n",
        "        \n",
        "        fig, axes = plt.subplots(figsize=(11,8))\n",
        "        plt.title('Chemically Unique Predictions', fontsize=16)\n",
        "        idx = self.unique_df.index\n",
        "        axes.plot(idx, self.unique_df['Top-1 Accuracy'], label='Top-1')\n",
        "        axes.plot(idx, self.unique_df['Top-3 Accuracy'], label='Top-3')\n",
        "        axes.plot(idx, self.unique_df['Top-5 Accuracy'], label='Top-5')\n",
        "        axes.plot(idx, self.unique_df['Top-10 Accuracy'], label='Top-10')\n",
        "        axes.legend()\n",
        "        axes.tick_params(axis='both', which='major', labelsize=14)\n",
        "        axes.set_xlabel('Augmentation Condition', fontsize=14, labelpad=20)\n",
        "        axes.set_ylabel('Chemically Unique Predictions', fontsize=14)\n"
      ],
      "execution_count": 12,
      "outputs": []
    },
    {
      "cell_type": "code",
      "metadata": {
        "id": "KruscxEPBPhq"
      },
      "source": [
        "ks = [1,3,5,10]\n",
        "titles = ['No Augmentation', '4x Augmentation', \n",
        "          '16x Augmentation', '40x Augmentation']"
      ],
      "execution_count": 13,
      "outputs": []
    },
    {
      "cell_type": "code",
      "metadata": {
        "id": "hE4DKE8ZBSnW"
      },
      "source": [
        "predictions = ProcessAllPreds(prediction_path, output_files, ks, titles)\n"
      ],
      "execution_count": 32,
      "outputs": []
    },
    {
      "cell_type": "code",
      "metadata": {
        "colab": {
          "base_uri": "https://localhost:8080/",
          "height": 539
        },
        "id": "4R4jaWgZOLLE",
        "outputId": "666f75d6-eab7-48ce-f932-f3cade394edf"
      },
      "source": [
        "predictions.plot_accuracy()"
      ],
      "execution_count": 33,
      "outputs": [
        {
          "output_type": "display_data",
          "data": {
            "image/png": "[encoded data removed]",
            "text/plain": [
              "<Figure size 792x576 with 1 Axes>"
            ]
          },
          "metadata": {
            "needs_background": "light"
          }
        }
      ]
    },
    {
      "cell_type": "code",
      "metadata": {
        "colab": {
          "base_uri": "https://localhost:8080/",
          "height": 175
        },
        "id": "HkTCLRZrONf4",
        "outputId": "9b16ca0e-84eb-4c23-c5c8-7f5c8e521392"
      },
      "source": [
        "predictions.unique_df"
      ],
      "execution_count": 34,
      "outputs": [
        {
          "output_type": "execute_result",
          "data": {
            "text/html": [
              "<div>\n",
              "<style scoped>\n",
              "    .dataframe tbody tr th:only-of-type {\n",
              "        vertical-align: middle;\n",
              "    }\n",
              "\n",
              "    .dataframe tbody tr th {\n",
              "        vertical-align: top;\n",
              "    }\n",
              "\n",
              "    .dataframe thead th {\n",
              "        text-align: right;\n",
              "    }\n",
              "</style>\n",
              "<table border=\"1\" class=\"dataframe\">\n",
              "  <thead>\n",
              "    <tr style=\"text-align: right;\">\n",
              "      <th></th>\n",
              "      <th>Top-1 Accuracy</th>\n",
              "      <th>Top-3 Accuracy</th>\n",
              "      <th>Top-5 Accuracy</th>\n",
              "      <th>Top-10 Accuracy</th>\n",
              "    </tr>\n",
              "  </thead>\n",
              "  <tbody>\n",
              "    <tr>\n",
              "      <th>No Augmentation</th>\n",
              "      <td>1.0</td>\n",
              "      <td>2.784373</td>\n",
              "      <td>4.237410</td>\n",
              "      <td>7.155076</td>\n",
              "    </tr>\n",
              "    <tr>\n",
              "      <th>4x Augmentation</th>\n",
              "      <td>1.0</td>\n",
              "      <td>1.945044</td>\n",
              "      <td>2.537370</td>\n",
              "      <td>3.754796</td>\n",
              "    </tr>\n",
              "    <tr>\n",
              "      <th>16x Augmentation</th>\n",
              "      <td>1.0</td>\n",
              "      <td>1.706635</td>\n",
              "      <td>2.325739</td>\n",
              "      <td>3.223022</td>\n",
              "    </tr>\n",
              "    <tr>\n",
              "      <th>40x Augmentation</th>\n",
              "      <td>1.0</td>\n",
              "      <td>1.126099</td>\n",
              "      <td>1.232614</td>\n",
              "      <td>1.398481</td>\n",
              "    </tr>\n",
              "  </tbody>\n",
              "</table>\n",
              "</div>"
            ],
            "text/plain": [
              "                  Top-1 Accuracy  ...  Top-10 Accuracy\n",
              "No Augmentation              1.0  ...         7.155076\n",
              "4x Augmentation              1.0  ...         3.754796\n",
              "16x Augmentation             1.0  ...         3.223022\n",
              "40x Augmentation             1.0  ...         1.398481\n",
              "\n",
              "[4 rows x 4 columns]"
            ]
          },
          "metadata": {},
          "execution_count": 34
        }
      ]
    }
  ]
}